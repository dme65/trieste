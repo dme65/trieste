{
 "cells": [
  {
   "cell_type": "markdown",
   "id": "d0640896",
   "metadata": {},
   "source": [
    "# Ask-Tell Optimization Interface"
   ]
  },
  {
   "cell_type": "markdown",
   "id": "f15ebb70",
   "metadata": {},
   "source": [
    "In this notebook we will illustrate the use of an Ask-Tell interface in Trieste. It is useful for cases where you want to have greater control of the optimization loop, or when letting Trieste manage this loop is impossible.\n",
    "\n",
    "First, some code to set up the problem we will be using throughout the notebook. If you would like more details about this problem setup, please refer to [introductory EI notebook](expected_improvement.ipynb)."
   ]
  },
  {
   "cell_type": "code",
   "execution_count": 1,
   "id": "b23e6711",
   "metadata": {
    "execution": {
     "iopub.execute_input": "2021-09-29T09:43:54.350887Z",
     "iopub.status.busy": "2021-09-29T09:43:54.350201Z",
     "iopub.status.idle": "2021-09-29T09:43:58.255884Z",
     "shell.execute_reply": "2021-09-29T09:43:58.255261Z"
    }
   },
   "outputs": [],
   "source": [
    "import numpy as np\n",
    "import tensorflow as tf\n",
    "import matplotlib.pyplot as plt\n",
    "import gpflow\n",
    "\n",
    "from trieste.ask_tell_optimization import AskTellOptimizer\n",
    "from trieste.bayesian_optimizer import Record\n",
    "from trieste.data import Dataset\n",
    "from trieste.models.gpflow.models import GaussianProcessRegression\n",
    "from trieste.objectives import scaled_branin, SCALED_BRANIN_MINIMUM\n",
    "from trieste.objectives.utils import mk_observer\n",
    "from trieste.observer import OBJECTIVE\n",
    "from trieste.space import Box\n",
    "\n",
    "from util.plotting import plot_regret\n",
    "\n",
    "np.random.seed(1234)\n",
    "tf.random.set_seed(1234)\n",
    "\n",
    "\n",
    "search_space = Box([0, 0], [1, 1])\n",
    "n_steps = 5\n",
    "\n",
    "def build_model(data, kernel_func=None):\n",
    "    \"\"\"kernel_func should be a function that takes variance as a single input parameter\"\"\"\n",
    "    variance = tf.math.reduce_variance(data.observations)\n",
    "    if kernel_func is None:\n",
    "        kernel = gpflow.kernels.Matern52(variance=variance)\n",
    "    else:\n",
    "        kernel = kernel_func(variance)\n",
    "    gpr = gpflow.models.GPR(data.astuple(), kernel, noise_variance=1e-5)\n",
    "    gpflow.set_trainable(gpr.likelihood, False)\n",
    "\n",
    "    return GaussianProcessRegression(gpr)\n",
    "\n",
    "num_initial_points = 5\n",
    "initial_query_points = search_space.sample(num_initial_points)\n",
    "observer = mk_observer(scaled_branin)\n",
    "initial_data = observer(initial_query_points)"
   ]
  },
  {
   "cell_type": "markdown",
   "id": "72639523",
   "metadata": {},
   "source": [
    "## Timing acquisition function: simple use case for Ask-Tell\n",
    "\n",
    "Let's say we are very concerned with the performance of the acqusition function, and want a simple way of measuring its performance over the course of the optimization. At the time of writing these lines, regular Trieste's optimizer does not provide such customization functionality, and this is where Ask-Tell comes in handy."
   ]
  },
  {
   "cell_type": "code",
   "execution_count": 2,
   "id": "77377710",
   "metadata": {
    "execution": {
     "iopub.execute_input": "2021-09-29T09:43:58.261922Z",
     "iopub.status.busy": "2021-09-29T09:43:58.260917Z",
     "iopub.status.idle": "2021-09-29T09:44:05.752212Z",
     "shell.execute_reply": "2021-09-29T09:44:05.751739Z"
    }
   },
   "outputs": [
    {
     "name": "stdout",
     "output_type": "stream",
     "text": [
      "Time at step 1: 2.6723749470000087\n"
     ]
    },
    {
     "name": "stdout",
     "output_type": "stream",
     "text": [
      "Time at step 2: 0.3119532419999871\n"
     ]
    },
    {
     "name": "stdout",
     "output_type": "stream",
     "text": [
      "Time at step 3: 0.32336492299998554\n"
     ]
    },
    {
     "name": "stdout",
     "output_type": "stream",
     "text": [
      "Time at step 4: 0.3151933180000128\n"
     ]
    },
    {
     "name": "stdout",
     "output_type": "stream",
     "text": [
      "Time at step 5: 0.3070460209999908\n"
     ]
    }
   ],
   "source": [
    "import timeit\n",
    "\n",
    "model = build_model(initial_data)\n",
    "ask_tell = AskTellOptimizer(search_space, initial_data, model)\n",
    "\n",
    "for step in range(n_steps):\n",
    "    start = timeit.default_timer()\n",
    "    new_point = ask_tell.ask()\n",
    "    stop = timeit.default_timer()\n",
    "\n",
    "    print(f\"Time at step {step + 1}: {stop - start}\")\n",
    "\n",
    "    new_data = observer(new_point)\n",
    "    ask_tell.tell(new_data)"
   ]
  },
  {
   "cell_type": "markdown",
   "id": "590e5a20",
   "metadata": {},
   "source": [
    "Once ask-tell optimization is over, you can extract an optimization result object and perform whatever analysis you need, just like with regular Trieste optimization interface. For instance, here we will plot regret for each optimization step."
   ]
  },
  {
   "cell_type": "code",
   "execution_count": 3,
   "id": "a6738c8d",
   "metadata": {
    "execution": {
     "iopub.execute_input": "2021-09-29T09:44:05.759167Z",
     "iopub.status.busy": "2021-09-29T09:44:05.758058Z",
     "iopub.status.idle": "2021-09-29T09:44:06.296575Z",
     "shell.execute_reply": "2021-09-29T09:44:06.296960Z"
    }
   },
   "outputs": [
    {
     "data": {
      "image/png": "[encoded data removed]",
      "text/plain": [
       "<Figure size 432x288 with 1 Axes>"
      ]
     },
     "metadata": {
      "needs_background": "light"
     },
     "output_type": "display_data"
    }
   ],
   "source": [
    "def plot_ask_tell_regret(ask_tell_result):\n",
    "    observations = ask_tell_result.try_get_final_dataset().observations.numpy()\n",
    "    arg_min_idx = tf.squeeze(tf.argmin(observations, axis=0))\n",
    "\n",
    "    suboptimality = observations - SCALED_BRANIN_MINIMUM.numpy()\n",
    "    ax = plt.gca()\n",
    "    plot_regret(suboptimality, ax, num_init=num_initial_points, idx_best=arg_min_idx)\n",
    "\n",
    "    ax.set_yscale(\"log\")\n",
    "    ax.set_ylabel(\"Regret\")\n",
    "    ax.set_ylim(0.001, 100)\n",
    "    ax.set_xlabel(\"# evaluations\")\n",
    "\n",
    "plot_ask_tell_regret(ask_tell.to_result())"
   ]
  },
  {
   "cell_type": "markdown",
   "id": "73134d3b",
   "metadata": {},
   "source": [
    "## Model selection: using only Ask part\n",
    "\n",
    "We now turn to a slightly more complex use case. Let's suppose we want to switch between two models depending on some criteria dynamically during the optimization loop, e.g. we want to be able to train a model outside of Trieste. In this case we can only use Ask part of the Ask-Tell interface."
   ]
  },
  {
   "cell_type": "code",
   "execution_count": 4,
   "id": "826d6f75",
   "metadata": {
    "execution": {
     "iopub.execute_input": "2021-09-29T09:44:06.303911Z",
     "iopub.status.busy": "2021-09-29T09:44:06.303027Z",
     "iopub.status.idle": "2021-09-29T09:44:20.791235Z",
     "shell.execute_reply": "2021-09-29T09:44:20.790748Z"
    },
    "lines_to_next_cell": 2
   },
   "outputs": [
    {
     "name": "stdout",
     "output_type": "stream",
     "text": [
      "Using model 1\n",
      "Asking for new point to observe\n"
     ]
    },
    {
     "name": "stdout",
     "output_type": "stream",
     "text": [
      "Training models externally\n"
     ]
    },
    {
     "name": "stdout",
     "output_type": "stream",
     "text": [
      "Using model 2\n",
      "Asking for new point to observe\n"
     ]
    },
    {
     "name": "stdout",
     "output_type": "stream",
     "text": [
      "WARNING:tensorflow:5 out of the last 19 calls to <function expected_improvement.__call__ at 0x7fa327b81440> triggered tf.function retracing. Tracing is expensive and the excessive number of tracings could be due to (1) creating @tf.function repeatedly in a loop, (2) passing tensors with different shapes, (3) passing Python objects instead of tensors. For (1), please define your @tf.function outside of the loop. For (2), @tf.function has experimental_relax_shapes=True option that relaxes argument shapes that can avoid unnecessary retracing. For (3), please refer to https://www.tensorflow.org/guide/function#controlling_retracing and https://www.tensorflow.org/api_docs/python/tf/function for  more details.\n"
     ]
    },
    {
     "name": "stdout",
     "output_type": "stream",
     "text": [
      "Training models externally\n"
     ]
    },
    {
     "name": "stdout",
     "output_type": "stream",
     "text": [
      "Using model 1\n",
      "Asking for new point to observe\n"
     ]
    },
    {
     "name": "stdout",
     "output_type": "stream",
     "text": [
      "WARNING:tensorflow:6 out of the last 21 calls to <function expected_improvement.__call__ at 0x7fa327b5e830> triggered tf.function retracing. Tracing is expensive and the excessive number of tracings could be due to (1) creating @tf.function repeatedly in a loop, (2) passing tensors with different shapes, (3) passing Python objects instead of tensors. For (1), please define your @tf.function outside of the loop. For (2), @tf.function has experimental_relax_shapes=True option that relaxes argument shapes that can avoid unnecessary retracing. For (3), please refer to https://www.tensorflow.org/guide/function#controlling_retracing and https://www.tensorflow.org/api_docs/python/tf/function for  more details.\n"
     ]
    },
    {
     "name": "stdout",
     "output_type": "stream",
     "text": [
      "Training models externally\n"
     ]
    },
    {
     "name": "stdout",
     "output_type": "stream",
     "text": [
      "Using model 2\n",
      "Asking for new point to observe\n"
     ]
    },
    {
     "name": "stdout",
     "output_type": "stream",
     "text": [
      "Training models externally\n"
     ]
    },
    {
     "name": "stdout",
     "output_type": "stream",
     "text": [
      "Using model 1\n",
      "Asking for new point to observe\n"
     ]
    },
    {
     "name": "stdout",
     "output_type": "stream",
     "text": [
      "Training models externally\n"
     ]
    },
    {
     "data": {
      "image/png": "[encoded data removed]",
      "text/plain": [
       "<Figure size 432x288 with 1 Axes>"
      ]
     },
     "metadata": {
      "needs_background": "light"
     },
     "output_type": "display_data"
    }
   ],
   "source": [
    "model1 = build_model(initial_data, kernel_func=lambda v: gpflow.kernels.RBF(variance=v))\n",
    "model2 = build_model(initial_data, kernel_func=lambda v: gpflow.kernels.Matern32(variance=v))\n",
    "\n",
    "dataset = initial_data\n",
    "for step in range(n_steps):\n",
    "    # this criterion is meaningless\n",
    "    # but hopefully illustrates the idea!\n",
    "    if step % 2 == 0:\n",
    "        print(\"Using model 1\")\n",
    "        model = model1\n",
    "    else:\n",
    "        print(\"Using model 2\")\n",
    "        model = model2\n",
    "\n",
    "    print(\"Asking for new point to observe\")\n",
    "    ask_tell = AskTellOptimizer(search_space, dataset, model)\n",
    "    new_point = ask_tell.ask()\n",
    "\n",
    "    new_data_point = observer(new_point)\n",
    "    dataset = dataset + new_data_point\n",
    "\n",
    "    print(\"Training models externally\")\n",
    "    model1.update(dataset)\n",
    "    model1.optimize(dataset)\n",
    "\n",
    "    model2.update(dataset)\n",
    "    model2.optimize(dataset)\n",
    "\n",
    "plot_ask_tell_regret(ask_tell.to_result())"
   ]
  },
  {
   "cell_type": "markdown",
   "id": "d70f2d19",
   "metadata": {},
   "source": [
    "## External experiment: storing optimizer state\n",
    "\n",
    "Now let's suppose you are optimizing a process that takes hours or even days to complete, e.g. a lab experiment or a hyperparameter optimization of a big machine learning model. This time you cannot even express the objective function in Python code. Instead you would like to ask Trieste what configuration to run next, go to the lab, perform the experiment, collect data, feed it back to Trieste and ask for the next configuration, and so on. It would be very convenient to be able to store intermediate optimization state to disk or database or other storage, so that your machine can be switched off while you are waiting for observation results. \n",
    "\n",
    "In this section we'll show how you could do it with Ask-Tell in Trieste. Of course we cannot perform a real physical experiment within this notebook, so we will just mimick it by using pickle to write optimization state and read it back."
   ]
  },
  {
   "cell_type": "code",
   "execution_count": 5,
   "id": "971a27a9",
   "metadata": {
    "execution": {
     "iopub.execute_input": "2021-09-29T09:44:20.797982Z",
     "iopub.status.busy": "2021-09-29T09:44:20.797034Z",
     "iopub.status.idle": "2021-09-29T09:44:32.448117Z",
     "shell.execute_reply": "2021-09-29T09:44:32.448566Z"
    },
    "lines_to_next_cell": 2
   },
   "outputs": [
    {
     "name": "stdout",
     "output_type": "stream",
     "text": [
      "Ask Trieste for configuration #0\n"
     ]
    },
    {
     "name": "stdout",
     "output_type": "stream",
     "text": [
      "Saving Trieste state to re-use later\n",
      "In the lab running the experiment #0.\n",
      "Back from the lab\n",
      "Restore optimizer from the saved state\n"
     ]
    },
    {
     "name": "stdout",
     "output_type": "stream",
     "text": [
      "Ask Trieste for configuration #1\n"
     ]
    },
    {
     "name": "stdout",
     "output_type": "stream",
     "text": [
      "Saving Trieste state to re-use later\n",
      "In the lab running the experiment #1.\n",
      "Back from the lab\n",
      "Restore optimizer from the saved state\n"
     ]
    },
    {
     "name": "stdout",
     "output_type": "stream",
     "text": [
      "Ask Trieste for configuration #2\n"
     ]
    },
    {
     "name": "stdout",
     "output_type": "stream",
     "text": [
      "Saving Trieste state to re-use later\n",
      "In the lab running the experiment #2.\n",
      "Back from the lab\n",
      "Restore optimizer from the saved state\n"
     ]
    },
    {
     "name": "stdout",
     "output_type": "stream",
     "text": [
      "Ask Trieste for configuration #3\n"
     ]
    },
    {
     "name": "stdout",
     "output_type": "stream",
     "text": [
      "Saving Trieste state to re-use later\n",
      "In the lab running the experiment #3.\n",
      "Back from the lab\n",
      "Restore optimizer from the saved state\n"
     ]
    },
    {
     "name": "stdout",
     "output_type": "stream",
     "text": [
      "Ask Trieste for configuration #4\n"
     ]
    },
    {
     "name": "stdout",
     "output_type": "stream",
     "text": [
      "Saving Trieste state to re-use later\n",
      "In the lab running the experiment #4.\n",
      "Back from the lab\n",
      "Restore optimizer from the saved state\n"
     ]
    },
    {
     "data": {
      "image/png": "[encoded data removed]",
      "text/plain": [
       "<Figure size 432x288 with 1 Axes>"
      ]
     },
     "metadata": {
      "needs_background": "light"
     },
     "output_type": "display_data"
    }
   ],
   "source": [
    "import pickle\n",
    "\n",
    "model = build_model(initial_data)\n",
    "ask_tell = AskTellOptimizer(search_space, initial_data, model)\n",
    "for step in range(n_steps):\n",
    "    print(f\"Ask Trieste for configuration #{step}\")\n",
    "    new_config = ask_tell.ask()\n",
    "\n",
    "    print(\"Saving Trieste state to re-use later\")\n",
    "    state: Record[None] = ask_tell.to_record()\n",
    "    saved_state = pickle.dumps(state)\n",
    "\n",
    "    print(f\"In the lab running the experiment #{step}.\")\n",
    "    new_datapoint = scaled_branin(new_config)\n",
    "\n",
    "    print(\"Back from the lab\")\n",
    "    print(\"Restore optimizer from the saved state\")\n",
    "    loaded_state = pickle.loads(saved_state)\n",
    "    ask_tell = AskTellOptimizer.from_record(loaded_state, search_space)\n",
    "    ask_tell.tell(Dataset(new_config, new_datapoint))\n",
    "\n",
    "\n",
    "plot_ask_tell_regret(ask_tell.to_result())"
   ]
  },
  {
   "cell_type": "markdown",
   "id": "a2a238c9",
   "metadata": {},
   "source": [
    "A word of warning. This serialization technique is not guaranteed to work smoothly with every Tensorflow-based model, so apply to your own problems with caution."
   ]
  }
 ],
 "metadata": {
  "jupytext": {
   "cell_metadata_filter": "-all",
   "main_language": "python",
   "notebook_metadata_filter": "-all",
   "text_representation": {
    "extension": ".py",
    "format_name": "percent"
   }
  },
  "language_info": {
   "codemirror_mode": {
    "name": "ipython",
    "version": 3
   },
   "file_extension": ".py",
   "mimetype": "text/x-python",
   "name": "python",
   "nbconvert_exporter": "python",
   "pygments_lexer": "ipython3",
   "version": "3.7.12"
  }
 },
 "nbformat": 4,
 "nbformat_minor": 5
}
